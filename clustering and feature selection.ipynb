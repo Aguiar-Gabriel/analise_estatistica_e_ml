{
 "cells": [
  {
   "cell_type": "code",
   "execution_count": 1,
   "id": "0527b833",
   "metadata": {},
   "outputs": [],
   "source": [
    "import seaborn as sns\n",
    "import pandas as pd\n",
    "import matplotlib.pyplot as plt\n",
    "from sklearn.cluster import KMeans\n",
    "import numpy as np"
   ]
  },
  {
   "cell_type": "markdown",
   "id": "53e022dd",
   "metadata": {},
   "source": [
    "## Clustering:\n",
    "\n",
    "- K-means: Conceitos básicos, aplicações e métricas de avaliação de cluster\n",
    "- K-medoids: Conceitos e diferenças com K-means\n",
    "- DBScan: Introdução e características\n"
   ]
  },
  {
   "cell_type": "markdown",
   "id": "b5b97762",
   "metadata": {},
   "source": [
    "### K-means"
   ]
  },
  {
   "cell_type": "markdown",
   "id": "87df5a5c",
   "metadata": {},
   "source": [
    "**Inicialização:** Escolhe-se o número K de clusters e selecionam-se K pontos iniciais como os \"centros\" (centroides) dos clusters.\n",
    "\n",
    "**Atribuição:** Cada ponto de dados é atribuído ao cluster cujo centroide está mais próximo, com base na distância (geralmente euclidiana).\n",
    "\n",
    "**Atualização:** Os centroides dos clusters são recalculados como a média dos pontos atribuídos a cada cluster.\n",
    "\n",
    "**Convergência:** Repetem-se os passos 2 e 3 até que os centroides não mudem significativamente, indicando que o algoritmo convergiu.\n",
    "\n",
    "**Finalização:** O resultado são K clusters de pontos, com cada ponto pertencendo ao cluster cujo centroide está mais próximo.\n",
    "\n",
    "O K-means é iterativo e busca minimizar a soma das distâncias quadradas entre os pontos e seus centroides de cluster correspondentes."
   ]
  },
  {
   "cell_type": "code",
   "execution_count": 2,
   "id": "a4742f02",
   "metadata": {
    "scrolled": true
   },
   "outputs": [
    {
     "name": "stdout",
     "output_type": "stream",
     "text": [
      "<class 'pandas.core.frame.DataFrame'>\n",
      "RangeIndex: 150 entries, 0 to 149\n",
      "Data columns (total 5 columns):\n",
      " #   Column        Non-Null Count  Dtype  \n",
      "---  ------        --------------  -----  \n",
      " 0   sepal_length  150 non-null    float64\n",
      " 1   sepal_width   150 non-null    float64\n",
      " 2   petal_length  150 non-null    float64\n",
      " 3   petal_width   150 non-null    float64\n",
      " 4   species       150 non-null    object \n",
      "dtypes: float64(4), object(1)\n",
      "memory usage: 6.0+ KB\n"
     ]
    }
   ],
   "source": [
    "# Carregar dataset\n",
    "iris = sns.load_dataset('iris')\n",
    "iris.info()"
   ]
  },
  {
   "cell_type": "code",
   "execution_count": 3,
   "id": "015a45c7",
   "metadata": {},
   "outputs": [],
   "source": [
    "# Separar variáveis dependentes e independentes\n",
    "X = iris.drop('species', axis=1)\n",
    "y = iris['species']"
   ]
  },
  {
   "cell_type": "code",
   "execution_count": 4,
   "id": "f6534514",
   "metadata": {
    "scrolled": true
   },
   "outputs": [
    {
     "name": "stderr",
     "output_type": "stream",
     "text": [
      "C:\\Users\\gabri\\anaconda3\\lib\\site-packages\\sklearn\\cluster\\_kmeans.py:870: FutureWarning: The default value of `n_init` will change from 10 to 'auto' in 1.4. Set the value of `n_init` explicitly to suppress the warning\n",
      "  warnings.warn(\n",
      "C:\\Users\\gabri\\anaconda3\\lib\\site-packages\\sklearn\\cluster\\_kmeans.py:1382: UserWarning: KMeans is known to have a memory leak on Windows with MKL, when there are less chunks than available threads. You can avoid it by setting the environment variable OMP_NUM_THREADS=1.\n",
      "  warnings.warn(\n"
     ]
    },
    {
     "name": "stdout",
     "output_type": "stream",
     "text": [
      "Predicted Clusters   0   1   2\n",
      "True Species                  \n",
      "setosa              50   0   0\n",
      "versicolor           0   2  48\n",
      "virginica            0  36  14\n"
     ]
    }
   ],
   "source": [
    "kmeans=KMeans(n_clusters=3)\n",
    "kmeans.fit(X)\n",
    "# Prevendo os clusters\n",
    "labels = kmeans.predict(X)\n",
    "# Criando uma tabela de contingência\n",
    "ct = pd.crosstab(y, labels, rownames=['True Species'], colnames=['Predicted Clusters'])\n",
    "\n",
    "print(ct)"
   ]
  },
  {
   "cell_type": "markdown",
   "id": "a523eab4",
   "metadata": {},
   "source": [
    "### n_clusters:\n",
    "\n",
    "- Número de grupos desejados.\n",
    "### init:\n",
    "\n",
    "- Método para inicializar os centroides ('k-means++', 'random', ou array).\n",
    "### n_init:\n",
    "\n",
    "- Número de inicializações diferentes a serem tentadas.\n",
    "### max_iter:\n",
    "\n",
    "- Máximo de iterações para otimizar os centroides.\n",
    "### tol:\n",
    "\n",
    "- Tolerância para a convergência.\n",
    "### random_state:\n",
    "\n",
    "- Semente para geração de números aleatórios, assegura repetibilidade.\n",
    "### algorithm:\n",
    "\n",
    "Algoritmo a ser usado ('auto', 'full' ou 'elkan')."
   ]
  },
  {
   "cell_type": "markdown",
   "id": "310d3728",
   "metadata": {},
   "source": [
    "### K-medoids"
   ]
  },
  {
   "cell_type": "markdown",
   "id": "b3ac4ac9",
   "metadata": {},
   "source": [
    "### Como Funciona K-medoids:\n",
    "\n",
    "1.  Inicialização:\n",
    "\n",
    "    -   Escolha �K pontos de dados como os medoides iniciais (os \"centros\" dos clusters).\n",
    "2.  Atribuição:\n",
    "\n",
    "    -   Atribua cada ponto de dados ao medoide mais próximo, com base em uma medida de dissimilaridade (como a distância euclidiana).\n",
    "3.  Atualização:\n",
    "\n",
    "    -   Para cada cluster, selecione um novo medoide como o ponto de dados para o qual a soma das dissimilaridades entre este ponto e todos os outros pontos no cluster é mínima.\n",
    "4.  Convergência:\n",
    "\n",
    "    -   Repita os passos 2 e 3 até que os medoides não mudem, indicando que o algoritmo convergiu.\n",
    "5.  Finalização:\n",
    "\n",
    "    -   O resultado são �K clusters de pontos, com cada ponto pertencendo ao cluster cujo medoide está mais próximo.\n",
    "\n",
    "### Parâmetros Principais de K-medoids:\n",
    "\n",
    "1.  n_clusters:\n",
    "\n",
    "    -   Número de clusters desejados.\n",
    "2.  metric:\n",
    "\n",
    "    -   Medida de dissimilaridade a ser usada (ex: 'euclidean', 'manhattan').\n",
    "3.  init:\n",
    "\n",
    "    -   Método para inicializar os medoides ('random', 'heuristic' ou array específico).\n",
    "4.  max_iter:\n",
    "\n",
    "    -   Máximo de iterações para otimizar os medoides.\n",
    "5.  random_state:\n",
    "\n",
    "    -   Semente para geração de números aleatórios, assegura repetibilidade."
   ]
  },
  {
   "cell_type": "code",
   "execution_count": 5,
   "id": "fbcfe72d",
   "metadata": {},
   "outputs": [
    {
     "name": "stdout",
     "output_type": "stream",
     "text": [
      "Predicted Clusters   0   1   2\n",
      "True Species                  \n",
      "setosa               0  50   0\n",
      "versicolor          13   0  37\n",
      "virginica           49   0   1\n"
     ]
    }
   ],
   "source": [
    "from sklearn_extra.cluster import KMedoids\n",
    "\n",
    "kmedoids = KMedoids(n_clusters=3, method='pam')\n",
    "\n",
    "kmedoids.fit(X)\n",
    "\n",
    "labels = kmedoids.predict(X)\n",
    "\n",
    "ct=pd.crosstab(y, labels, rownames=['True Species'], colnames=['Predicted Clusters'])\n",
    "\n",
    "print(ct)"
   ]
  },
  {
   "cell_type": "markdown",
   "id": "f4281d2e",
   "metadata": {},
   "source": [
    "## DBscan"
   ]
  },
  {
   "cell_type": "markdown",
   "id": "2c1487db",
   "metadata": {},
   "source": [
    "### Como Funciona DBSCAN:\n",
    "\n",
    "1.  Seleção de Parâmetros:\n",
    "\n",
    "    -   Especifique dois parâmetros: �ε (eps), que é o raio da vizinhança de um ponto, e `min_samples`, que é o número mínimo de pontos para formar uma região densa.\n",
    "2.  Crescimento do Cluster:\n",
    "\n",
    "    -   Para cada ponto não visitado, defina-o como o ponto atual e verifique se há pelo menos `min_samples` pontos dentro da vizinhança de raio �ε. Se sim, comece um novo cluster em torno desse ponto. Se não, marque o ponto como ruído.\n",
    "3.  Expansão do Cluster:\n",
    "\n",
    "    -   Para um novo cluster, adicione todos os pontos dentro da vizinhança de raio �ε do ponto inicial ao cluster. Em seguida, para cada novo ponto no cluster, adicione todos os pontos dentro de uma vizinhança de raio �ε a esse cluster. Repita até que o cluster seja completamente descoberto.\n",
    "4.  Finalização:\n",
    "\n",
    "    -   Continue o processo até que todos os pontos tenham sido visitados e atribuídos a um cluster ou marcados como ruído. O resultado são vários clusters de pontos densamente agrupados e pontos de ruído.\n",
    "\n",
    "### Parâmetros Principais de DBSCAN:\n",
    "\n",
    "1.  eps:\n",
    "\n",
    "    -   O raio da vizinhança de cada ponto.\n",
    "2.  min_samples:\n",
    "\n",
    "    -   O número mínimo de pontos (incluindo o ponto em si) para formar uma região densa.\n",
    "3.  metric:\n",
    "\n",
    "    -   A métrica de distância a ser usada para calcular as distâncias entre os pontos (ex: 'euclidean', 'manhattan').\n",
    "4.  algorithm:\n",
    "\n",
    "    -   O algoritmo a ser usado para encontrar vizinhos ('auto', 'ball_tree', 'kd_tree', 'brute').\n",
    "5.  n_jobs:\n",
    "\n",
    "    -   O número de jobs a serem usados para a computação. -1 significa usar todos os processadores."
   ]
  },
  {
   "cell_type": "code",
   "execution_count": 6,
   "id": "1c061b5b",
   "metadata": {},
   "outputs": [
    {
     "name": "stdout",
     "output_type": "stream",
     "text": [
      "Predicted Clusters  -1   0   1   2\n",
      "True Species                      \n",
      "setosa               1  49   0   0\n",
      "versicolor           2   0  44   4\n",
      "virginica           10   0  40   0\n"
     ]
    }
   ],
   "source": [
    "from sklearn.cluster import DBSCAN\n",
    "\n",
    "dbscan = DBSCAN(eps=0.5, min_samples=4)\n",
    "\n",
    "labels=dbscan.fit_predict(X)\n",
    "\n",
    "ct=pd.crosstab(y, labels, rownames=['True Species'], colnames=['Predicted Clusters'])\n",
    "\n",
    "print(ct)"
   ]
  },
  {
   "cell_type": "markdown",
   "id": "75ff54bb",
   "metadata": {},
   "source": [
    "Embora o conjunto de dados Iris seja frequentemente utilizado em tarefas de aprendizado supervisionado, dada a presença de rótulos de espécies claramente definidos, estamos optando por uma abordagem diferente neste contexto. Aqui, vamos explorar técnicas de aprendizado não supervisionado, como clustering, para aprender como esses algoritmos funcionam na prática.\n",
    "\n",
    "O ideal, em circunstâncias normais, seria aplicar um modelo de aprendizado supervisionado, já que possuímos as \"chaves\" em termos das espécies reais das flores Iris. Isso nos permitiria treinar um modelo para aprender explicitamente a mapear as características das flores às suas respectivas espécies.\n",
    "\n",
    "Contudo, estamos utilizando uma abordagem não supervisionada para investigar um questionamento interessante: será que, sem qualquer conhecimento prévio das etiquetas das espécies, um algoritmo não supervisionado conseguiria identificar grupos de flores que correspondem de perto às espécies reais? Em outras palavras, queremos ver se o algoritmo não supervisionado é capaz de \"descobrir\" as espécies por si só, com base apenas nas características das flores, e comparar esses grupos descobertos com as espécies reais que servem como nossas chaves.\n",
    "\n",
    "Isso é uma experiência didática e ilustrativa, que nos ajuda a entender o poder e as limitações dos métodos de aprendizado não supervisionado e como eles podem (ou não) coincidir com categorias pré-definidas em um conjunto de dados.\n",
    "\n"
   ]
  },
  {
   "cell_type": "markdown",
   "id": "aa73b78b",
   "metadata": {},
   "source": [
    "## Feature Selection:\n",
    "\n",
    "- Técnicas de ordenação de features: correlação, Mutual Information, Information value, etc.\n",
    "- Regularização L1\n",
    "- Boruta: introdução e aplicação"
   ]
  },
  {
   "cell_type": "markdown",
   "id": "e89340db",
   "metadata": {},
   "source": [
    "1.  PassengerId:\n",
    "\n",
    "    -   Um identificador único para cada passageiro.\n",
    "2.  Survived:\n",
    "\n",
    "    -   Indica se o passageiro sobreviveu ou não ao desastre.\n",
    "    -   0 = Não sobreviveu, 1 = Sobreviveu.\n",
    "3.  Pclass:\n",
    "\n",
    "    -   Classe do bilhete do passageiro.\n",
    "    -   1 = Primeira classe, 2 = Segunda classe, 3 = Terceira classe.\n",
    "    -   É uma representação do status socioeconômico dos passageiros.\n",
    "4.  Name:\n",
    "\n",
    "    -   Nome completo do passageiro.\n",
    "5.  Sex:\n",
    "\n",
    "    -   Sexo do passageiro.\n",
    "    -   Valores típicos: 'male', 'female'.\n",
    "6.  Age:\n",
    "\n",
    "    -   Idade do passageiro em anos.\n",
    "7.  SibSp:\n",
    "\n",
    "    -   Número de irmãos e cônjuges do passageiro a bordo do Titanic.\n",
    "8.  Parch:\n",
    "\n",
    "    -   Número de pais e filhos do passageiro a bordo do Titanic.\n",
    "9.  Ticket:\n",
    "\n",
    "    -   Número do bilhete do passageiro.\n",
    "10. Fare:\n",
    "\n",
    "    -   Tarifa que o passageiro pagou pelo bilhete.\n",
    "11. Cabin:\n",
    "\n",
    "    -   Número da cabine do passageiro.\n",
    "12. Embarked:\n",
    "\n",
    "    -   Porto em que o passageiro embarcou no Titanic.\n",
    "    -   C representa Cherbourg; Q representa Queenstown; S representa Southampton."
   ]
  },
  {
   "cell_type": "code",
   "execution_count": 7,
   "id": "27a6009a",
   "metadata": {},
   "outputs": [],
   "source": [
    "titanic=sns.load_dataset('titanic')"
   ]
  },
  {
   "cell_type": "code",
   "execution_count": 8,
   "id": "f66d0ee3",
   "metadata": {
    "scrolled": true
   },
   "outputs": [
    {
     "name": "stdout",
     "output_type": "stream",
     "text": [
      "<class 'pandas.core.frame.DataFrame'>\n",
      "RangeIndex: 891 entries, 0 to 890\n",
      "Data columns (total 15 columns):\n",
      " #   Column       Non-Null Count  Dtype   \n",
      "---  ------       --------------  -----   \n",
      " 0   survived     891 non-null    int64   \n",
      " 1   pclass       891 non-null    int64   \n",
      " 2   sex          891 non-null    object  \n",
      " 3   age          714 non-null    float64 \n",
      " 4   sibsp        891 non-null    int64   \n",
      " 5   parch        891 non-null    int64   \n",
      " 6   fare         891 non-null    float64 \n",
      " 7   embarked     889 non-null    object  \n",
      " 8   class        891 non-null    category\n",
      " 9   who          891 non-null    object  \n",
      " 10  adult_male   891 non-null    bool    \n",
      " 11  deck         203 non-null    category\n",
      " 12  embark_town  889 non-null    object  \n",
      " 13  alive        891 non-null    object  \n",
      " 14  alone        891 non-null    bool    \n",
      "dtypes: bool(2), category(2), float64(2), int64(4), object(5)\n",
      "memory usage: 80.7+ KB\n"
     ]
    }
   ],
   "source": [
    "titanic.info()"
   ]
  },
  {
   "cell_type": "code",
   "execution_count": 9,
   "id": "91ea91ee",
   "metadata": {},
   "outputs": [],
   "source": [
    "titanic=titanic.drop(['deck','alive'], axis=1)"
   ]
  },
  {
   "cell_type": "code",
   "execution_count": 10,
   "id": "ba98fddb",
   "metadata": {},
   "outputs": [],
   "source": [
    "titanic=titanic.dropna()"
   ]
  },
  {
   "cell_type": "markdown",
   "id": "877f62e9",
   "metadata": {},
   "source": [
    "## Utilizando LASSO"
   ]
  },
  {
   "cell_type": "code",
   "execution_count": 11,
   "id": "01bb5919",
   "metadata": {
    "scrolled": true
   },
   "outputs": [
    {
     "name": "stdout",
     "output_type": "stream",
     "text": [
      "Melhor valor de alpha encontrado: 0.001\n",
      "pclass                    -0.132687\n",
      "age                       -0.047206\n",
      "sibsp                     -0.109670\n",
      "parch                     -0.045707\n",
      "fare                       0.018036\n",
      "adult_male                -0.266044\n",
      "alone                     -0.047573\n",
      "sex_male                  -0.004027\n",
      "embarked_Q                -0.015533\n",
      "embarked_S                -0.017756\n",
      "class_Second              -0.000240\n",
      "class_Third               -0.000000\n",
      "who_man                   -0.000159\n",
      "who_woman                  0.002162\n",
      "embark_town_Queenstown    -0.006841\n",
      "embark_town_Southampton   -0.002359\n",
      "dtype: float64\n",
      "Features selecionadas para remoção pelo Lasso: ['class_Third']\n"
     ]
    }
   ],
   "source": [
    "from sklearn.preprocessing import StandardScaler\n",
    "\n",
    "titanic=pd.get_dummies(titanic, drop_first=True)\n",
    "\n",
    "X = titanic.drop('survived', axis=1)\n",
    "\n",
    "y=titanic['survived']\n",
    "\n",
    "scaler=StandardScaler()\n",
    "X_scaled = scaler.fit_transform(X)\n",
    "from sklearn.linear_model import LassoCV\n",
    "\n",
    "# Usar LassoCV para encontrar o melhor alpha através de validação cruzada\n",
    "lasso_cv = LassoCV(alphas=[0.001, 0.01, 0.1, 1, 10, 100], cv=5)\n",
    "lasso_cv.fit(X_scaled, y)\n",
    "\n",
    "# Mostrar o alpha que foi escolhido\n",
    "print(\"Melhor valor de alpha encontrado:\", lasso_cv.alpha_)\n",
    "\n",
    "# Mostrar os coeficientes para esse alpha\n",
    "coef_cv = pd.Series(lasso_cv.coef_, index=X.columns)\n",
    "print(coef_cv)\n",
    "\n",
    "# Features com coeficiente zero são as que foram \"selecionadas\" para serem removidas\n",
    "print(\"Features selecionadas para remoção pelo Lasso:\", coef_cv[coef_cv == 0].index.tolist())"
   ]
  },
  {
   "cell_type": "code",
   "execution_count": 12,
   "id": "5521914a",
   "metadata": {
    "scrolled": true
   },
   "outputs": [
    {
     "name": "stdout",
     "output_type": "stream",
     "text": [
      "pclass                    -0.132687\n",
      "age                       -0.047206\n",
      "sibsp                     -0.109670\n",
      "parch                     -0.045707\n",
      "fare                       0.018036\n",
      "adult_male                -0.266044\n",
      "alone                     -0.047573\n",
      "sex_male                  -0.004027\n",
      "embarked_Q                -0.015533\n",
      "embarked_S                -0.017756\n",
      "class_Second              -0.000240\n",
      "class_Third               -0.000000\n",
      "who_man                   -0.000159\n",
      "who_woman                  0.002162\n",
      "embark_town_Queenstown    -0.006841\n",
      "embark_town_Southampton   -0.002359\n",
      "dtype: float64\n",
      "Features selecionadas para remoção pelo Lasso: ['class_Third']\n"
     ]
    }
   ],
   "source": [
    "from sklearn.linear_model import Lasso\n",
    "from sklearn.preprocessing import StandardScaler\n",
    "from sklearn.model_selection import train_test_split\n",
    "\n",
    "\n",
    "lasso=Lasso(alpha=0.001)\n",
    "lasso.fit(X_scaled,y)\n",
    "\n",
    "# Verificando os coeficientes de importância\n",
    "coef=pd.Series(lasso.coef_, index=X.columns)\n",
    "print(coef)\n",
    "\n",
    "print(\"Features selecionadas para remoção pelo Lasso:\", coef[coef==0].index.tolist())"
   ]
  },
  {
   "cell_type": "markdown",
   "id": "14978f85",
   "metadata": {},
   "source": [
    "## Utilizando BORUTA"
   ]
  },
  {
   "cell_type": "code",
   "execution_count": 13,
   "id": "3bdc60ce",
   "metadata": {
    "scrolled": true
   },
   "outputs": [
    {
     "name": "stdout",
     "output_type": "stream",
     "text": [
      "Collecting git+https://github.com/Aguiar-Gabriel/boruta_py.git\n",
      "  Cloning https://github.com/Aguiar-Gabriel/boruta_py.git to c:\\users\\gabri\\appdata\\local\\temp\\pip-req-build-r6z2yvqb\n",
      "  Resolved https://github.com/Aguiar-Gabriel/boruta_py.git to commit f783995eac12442af0c2b288368ae0802d4bea51\n",
      "  Preparing metadata (setup.py): started\n",
      "  Preparing metadata (setup.py): finished with status 'done'\n",
      "Requirement already satisfied: numpy>=1.10.4 in c:\\users\\gabri\\anaconda3\\lib\\site-packages (from Boruta===-VERSION-PLACEHOLDER-) (1.24.3)\n",
      "Requirement already satisfied: scikit-learn>=0.17.1 in c:\\users\\gabri\\anaconda3\\lib\\site-packages (from Boruta===-VERSION-PLACEHOLDER-) (1.2.2)\n",
      "Requirement already satisfied: scipy>=0.17.0 in c:\\users\\gabri\\anaconda3\\lib\\site-packages (from Boruta===-VERSION-PLACEHOLDER-) (1.10.1)\n",
      "Requirement already satisfied: joblib>=1.1.1 in c:\\users\\gabri\\anaconda3\\lib\\site-packages (from scikit-learn>=0.17.1->Boruta===-VERSION-PLACEHOLDER-) (1.2.0)\n",
      "Requirement already satisfied: threadpoolctl>=2.0.0 in c:\\users\\gabri\\anaconda3\\lib\\site-packages (from scikit-learn>=0.17.1->Boruta===-VERSION-PLACEHOLDER-) (2.2.0)\n"
     ]
    },
    {
     "name": "stderr",
     "output_type": "stream",
     "text": [
      "  Running command git clone --filter=blob:none --quiet https://github.com/Aguiar-Gabriel/boruta_py.git 'C:\\Users\\gabri\\AppData\\Local\\Temp\\pip-req-build-r6z2yvqb'\n"
     ]
    }
   ],
   "source": [
    "!pip install git+https://github.com/Aguiar-Gabriel/boruta_py.git"
   ]
  },
  {
   "cell_type": "code",
   "execution_count": 14,
   "id": "0cbea7d8",
   "metadata": {},
   "outputs": [],
   "source": [
    "from sklearn.ensemble import RandomForestClassifier\n",
    "from boruta import BorutaPy\n"
   ]
  },
  {
   "cell_type": "code",
   "execution_count": 15,
   "id": "c7b129fd",
   "metadata": {},
   "outputs": [],
   "source": [
    "# Iniciar um classificador de árvore\n",
    "rf = RandomForestClassifier(n_jobs=-1, class_weight='balanced', max_depth=5)"
   ]
  },
  {
   "cell_type": "markdown",
   "id": "27d802da",
   "metadata": {},
   "source": [
    "Estou recebendo o erro:\n",
    "AttributeError: module 'numpy' has no attribute 'int'.\n",
    "`np.int` was a deprecated alias for the builtin `int`. To avoid this error in existing code, use `int` by itself. Doing this will not modify any behavior and is safe. When replacing `np.int`, you may wish to use e.g. `np.int64` or `np.int32` to specify the precision. If you wish to review your current use, check the release note link for additional information.\n",
    "The aliases was originally deprecated in NumPy 1.20; for more details and guidance see the original release note at:\n",
    "    https://numpy.org/devdocs/release/1.20.0-notes.html#deprecations\n",
    "\n",
    "Vou clonar o repositório no meu computador e alterar a biblioteca boruta."
   ]
  },
  {
   "cell_type": "code",
   "execution_count": 16,
   "id": "89818588",
   "metadata": {},
   "outputs": [
    {
     "name": "stdout",
     "output_type": "stream",
     "text": [
      "Iteration: \t1 / 100\n",
      "Confirmed: \t0\n",
      "Tentative: \t16\n",
      "Rejected: \t0\n",
      "Iteration: \t2 / 100\n",
      "Confirmed: \t0\n",
      "Tentative: \t16\n",
      "Rejected: \t0\n",
      "Iteration: \t3 / 100\n",
      "Confirmed: \t0\n",
      "Tentative: \t16\n",
      "Rejected: \t0\n",
      "Iteration: \t4 / 100\n",
      "Confirmed: \t0\n",
      "Tentative: \t16\n",
      "Rejected: \t0\n",
      "Iteration: \t5 / 100\n",
      "Confirmed: \t0\n",
      "Tentative: \t16\n",
      "Rejected: \t0\n",
      "Iteration: \t6 / 100\n",
      "Confirmed: \t0\n",
      "Tentative: \t16\n",
      "Rejected: \t0\n",
      "Iteration: \t7 / 100\n",
      "Confirmed: \t0\n",
      "Tentative: \t16\n",
      "Rejected: \t0\n",
      "Iteration: \t8 / 100\n",
      "Confirmed: \t8\n",
      "Tentative: \t0\n",
      "Rejected: \t8\n",
      "\n",
      "\n",
      "BorutaPy finished running.\n",
      "\n",
      "Iteration: \t9 / 100\n",
      "Confirmed: \t8\n",
      "Tentative: \t0\n",
      "Rejected: \t8\n"
     ]
    },
    {
     "data": {
      "text/html": [
       "<style>#sk-container-id-1 {color: black;background-color: white;}#sk-container-id-1 pre{padding: 0;}#sk-container-id-1 div.sk-toggleable {background-color: white;}#sk-container-id-1 label.sk-toggleable__label {cursor: pointer;display: block;width: 100%;margin-bottom: 0;padding: 0.3em;box-sizing: border-box;text-align: center;}#sk-container-id-1 label.sk-toggleable__label-arrow:before {content: \"▸\";float: left;margin-right: 0.25em;color: #696969;}#sk-container-id-1 label.sk-toggleable__label-arrow:hover:before {color: black;}#sk-container-id-1 div.sk-estimator:hover label.sk-toggleable__label-arrow:before {color: black;}#sk-container-id-1 div.sk-toggleable__content {max-height: 0;max-width: 0;overflow: hidden;text-align: left;background-color: #f0f8ff;}#sk-container-id-1 div.sk-toggleable__content pre {margin: 0.2em;color: black;border-radius: 0.25em;background-color: #f0f8ff;}#sk-container-id-1 input.sk-toggleable__control:checked~div.sk-toggleable__content {max-height: 200px;max-width: 100%;overflow: auto;}#sk-container-id-1 input.sk-toggleable__control:checked~label.sk-toggleable__label-arrow:before {content: \"▾\";}#sk-container-id-1 div.sk-estimator input.sk-toggleable__control:checked~label.sk-toggleable__label {background-color: #d4ebff;}#sk-container-id-1 div.sk-label input.sk-toggleable__control:checked~label.sk-toggleable__label {background-color: #d4ebff;}#sk-container-id-1 input.sk-hidden--visually {border: 0;clip: rect(1px 1px 1px 1px);clip: rect(1px, 1px, 1px, 1px);height: 1px;margin: -1px;overflow: hidden;padding: 0;position: absolute;width: 1px;}#sk-container-id-1 div.sk-estimator {font-family: monospace;background-color: #f0f8ff;border: 1px dotted black;border-radius: 0.25em;box-sizing: border-box;margin-bottom: 0.5em;}#sk-container-id-1 div.sk-estimator:hover {background-color: #d4ebff;}#sk-container-id-1 div.sk-parallel-item::after {content: \"\";width: 100%;border-bottom: 1px solid gray;flex-grow: 1;}#sk-container-id-1 div.sk-label:hover label.sk-toggleable__label {background-color: #d4ebff;}#sk-container-id-1 div.sk-serial::before {content: \"\";position: absolute;border-left: 1px solid gray;box-sizing: border-box;top: 0;bottom: 0;left: 50%;z-index: 0;}#sk-container-id-1 div.sk-serial {display: flex;flex-direction: column;align-items: center;background-color: white;padding-right: 0.2em;padding-left: 0.2em;position: relative;}#sk-container-id-1 div.sk-item {position: relative;z-index: 1;}#sk-container-id-1 div.sk-parallel {display: flex;align-items: stretch;justify-content: center;background-color: white;position: relative;}#sk-container-id-1 div.sk-item::before, #sk-container-id-1 div.sk-parallel-item::before {content: \"\";position: absolute;border-left: 1px solid gray;box-sizing: border-box;top: 0;bottom: 0;left: 50%;z-index: -1;}#sk-container-id-1 div.sk-parallel-item {display: flex;flex-direction: column;z-index: 1;position: relative;background-color: white;}#sk-container-id-1 div.sk-parallel-item:first-child::after {align-self: flex-end;width: 50%;}#sk-container-id-1 div.sk-parallel-item:last-child::after {align-self: flex-start;width: 50%;}#sk-container-id-1 div.sk-parallel-item:only-child::after {width: 0;}#sk-container-id-1 div.sk-dashed-wrapped {border: 1px dashed gray;margin: 0 0.4em 0.5em 0.4em;box-sizing: border-box;padding-bottom: 0.4em;background-color: white;}#sk-container-id-1 div.sk-label label {font-family: monospace;font-weight: bold;display: inline-block;line-height: 1.2em;}#sk-container-id-1 div.sk-label-container {text-align: center;}#sk-container-id-1 div.sk-container {/* jupyter's `normalize.less` sets `[hidden] { display: none; }` but bootstrap.min.css set `[hidden] { display: none !important; }` so we also need the `!important` here to be able to override the default hidden behavior on the sphinx rendered scikit-learn.org. See: https://github.com/scikit-learn/scikit-learn/issues/21755 */display: inline-block !important;position: relative;}#sk-container-id-1 div.sk-text-repr-fallback {display: none;}</style><div id=\"sk-container-id-1\" class=\"sk-top-container\"><div class=\"sk-text-repr-fallback\"><pre>BorutaPy(estimator=RandomForestClassifier(class_weight=&#x27;balanced&#x27;, max_depth=5,\n",
       "                                          n_estimators=113, n_jobs=-1,\n",
       "                                          random_state=RandomState(MT19937) at 0x23235E2EE40),\n",
       "         n_estimators=&#x27;auto&#x27;,\n",
       "         random_state=RandomState(MT19937) at 0x23235E2EE40, verbose=2)</pre><b>In a Jupyter environment, please rerun this cell to show the HTML representation or trust the notebook. <br />On GitHub, the HTML representation is unable to render, please try loading this page with nbviewer.org.</b></div><div class=\"sk-container\" hidden><div class=\"sk-item sk-dashed-wrapped\"><div class=\"sk-label-container\"><div class=\"sk-label sk-toggleable\"><input class=\"sk-toggleable__control sk-hidden--visually\" id=\"sk-estimator-id-1\" type=\"checkbox\" ><label for=\"sk-estimator-id-1\" class=\"sk-toggleable__label sk-toggleable__label-arrow\">BorutaPy</label><div class=\"sk-toggleable__content\"><pre>BorutaPy(estimator=RandomForestClassifier(class_weight=&#x27;balanced&#x27;, max_depth=5,\n",
       "                                          n_estimators=113, n_jobs=-1,\n",
       "                                          random_state=RandomState(MT19937) at 0x23235E2EE40),\n",
       "         n_estimators=&#x27;auto&#x27;,\n",
       "         random_state=RandomState(MT19937) at 0x23235E2EE40, verbose=2)</pre></div></div></div><div class=\"sk-parallel\"><div class=\"sk-parallel-item\"><div class=\"sk-item\"><div class=\"sk-label-container\"><div class=\"sk-label sk-toggleable\"><input class=\"sk-toggleable__control sk-hidden--visually\" id=\"sk-estimator-id-2\" type=\"checkbox\" ><label for=\"sk-estimator-id-2\" class=\"sk-toggleable__label sk-toggleable__label-arrow\">estimator: RandomForestClassifier</label><div class=\"sk-toggleable__content\"><pre>RandomForestClassifier(class_weight=&#x27;balanced&#x27;, max_depth=5, n_estimators=113,\n",
       "                       n_jobs=-1,\n",
       "                       random_state=RandomState(MT19937) at 0x23235E2EE40)</pre></div></div></div><div class=\"sk-serial\"><div class=\"sk-item\"><div class=\"sk-estimator sk-toggleable\"><input class=\"sk-toggleable__control sk-hidden--visually\" id=\"sk-estimator-id-3\" type=\"checkbox\" ><label for=\"sk-estimator-id-3\" class=\"sk-toggleable__label sk-toggleable__label-arrow\">RandomForestClassifier</label><div class=\"sk-toggleable__content\"><pre>RandomForestClassifier(class_weight=&#x27;balanced&#x27;, max_depth=5, n_estimators=113,\n",
       "                       n_jobs=-1,\n",
       "                       random_state=RandomState(MT19937) at 0x23235E2EE40)</pre></div></div></div></div></div></div></div></div></div></div>"
      ],
      "text/plain": [
       "BorutaPy(estimator=RandomForestClassifier(class_weight='balanced', max_depth=5,\n",
       "                                          n_estimators=113, n_jobs=-1,\n",
       "                                          random_state=RandomState(MT19937) at 0x23235E2EE40),\n",
       "         n_estimators='auto',\n",
       "         random_state=RandomState(MT19937) at 0x23235E2EE40, verbose=2)"
      ]
     },
     "execution_count": 16,
     "metadata": {},
     "output_type": "execute_result"
    }
   ],
   "source": [
    "# Iniciando o algoritmo Boruta\n",
    "boruta = BorutaPy(estimator=rf, n_estimators='auto', verbose=2, random_state=1)\n",
    "# Executando o algoritmo Boruta\n",
    "boruta.fit(X.values, y.values)\n"
   ]
  },
  {
   "cell_type": "code",
   "execution_count": 17,
   "id": "03e6847e",
   "metadata": {},
   "outputs": [
    {
     "data": {
      "image/png": "[encoded data removed]",
      "text/plain": [
       "<Figure size 1200x800 with 1 Axes>"
      ]
     },
     "metadata": {},
     "output_type": "display_data"
    }
   ],
   "source": [
    "plt.figure(figsize=(12, 8))\n",
    "plt.bar(X.columns, boruta.support_.astype(int))\n",
    "\n",
    "plt.title('Importâncias das Features com Boruta')\n",
    "plt.xlabel('Features')\n",
    "plt.ylabel('Importância')\n",
    "plt.xticks(rotation=90)\n",
    "plt.show()"
   ]
  },
  {
   "cell_type": "markdown",
   "id": "1d310a99",
   "metadata": {},
   "source": [
    "Neste gráfico de barras, as features marcadas com 1 são as consideradas importantes pelo Boruta, enquanto as marcadas com 0 não são consideradas importantes."
   ]
  },
  {
   "cell_type": "markdown",
   "id": "86c895d3",
   "metadata": {},
   "source": [
    "O algoritmo Boruta é uma abordagem de seleção de características utilizada para encontrar as características mais importantes (relevantes) em um conjunto de dados, particularmente quando utilizado com modelos baseados em árvores, como Random Forest. Foi desenvolvido com a intenção de trabalhar com problemas de biologia, mas sua aplicação se estende a muitos domínios.\n",
    "\n",
    "Aqui está uma visão geral de como o Boruta funciona:\n",
    "\n",
    "Duplicação das Features (Shadow Features):\n",
    "\n",
    "O primeiro passo do Boruta é criar cópias de todas as características no conjunto de dados. Essas cópias são chamadas de \"shadow features\".\n",
    "Em seguida, ele embaralha aleatoriamente os valores dentro de cada shadow feature, destruindo qualquer relação que eles possam ter com a variável alvo.\n",
    "Treinar um Classificador:\n",
    "\n",
    "O Boruta então treina um classificador (geralmente uma Random Forest, devido à sua habilidade de avaliar a importância de características) no conjunto de dados original estendido, que inclui tanto as características originais quanto suas shadow features embaralhadas.\n",
    "O classificador, ao ser treinado, fornece um grau de importância para cada característica.\n",
    "Comparação de Importância:\n",
    "\n",
    "Depois que o classificador é treinado, o Boruta compara a importância das características reais com a mais importante das shadow features.\n",
    "Características originais que têm uma importância consistentemente mais alta do que a shadow feature mais importante são consideradas relevantes e são \"confirmadas\" pelo Boruta.\n",
    "Características que são consistentemente menos importantes do que as shadow features são consideradas irrelevantes e são \"rejeitadas\" pelo Boruta.\n",
    "Características que às vezes são mais importantes e às vezes menos importantes do que as shadow features permanecem \"não decididas\".\n",
    "Iterações:\n",
    "\n",
    "O Boruta repete o processo várias vezes, a cada vez decidindo mais sobre quais características são importantes e quais não são, até que todas as características sejam confirmadas ou rejeitadas ou até que um número pré-definido de iterações seja alcançado.\n",
    "Resultado Final:\n",
    "\n",
    "Ao final das iterações, o Boruta fornece uma lista das características que ele considera relevantes (importantes) para prever a variável alvo.\n",
    "Por que Boruta é útil?\n",
    "\n",
    "A abordagem do Boruta é poderosa porque:\n",
    "\n",
    "Ela é rigorosa, repetindo o processo muitas vezes para ter certeza sobre a importância das características.\n",
    "Em vez de confiar apenas na importância relativa das características em si, ela compara a importância das características reais com características \"fictícias\" (shadow features). Isso dá um contexto para decidir se uma característica é genuinamente relevante ou se sua importância pode ser simplesmente devido ao acaso.\n",
    "Essa metodologia ajuda a distinguir características que são verdadeiramente relevantes das que apenas parecem importantes devido ao ruído nos dados."
   ]
  }
 ],
 "metadata": {
  "kernelspec": {
   "display_name": "Python 3 (ipykernel)",
   "language": "python",
   "name": "python3"
  },
  "language_info": {
   "codemirror_mode": {
    "name": "ipython",
    "version": 3
   },
   "file_extension": ".py",
   "mimetype": "text/x-python",
   "name": "python",
   "nbconvert_exporter": "python",
   "pygments_lexer": "ipython3",
   "version": "3.9.16"
  },
  "varInspector": {
   "cols": {
    "lenName": 16,
    "lenType": 16,
    "lenVar": 40
   },
   "kernels_config": {
    "python": {
     "delete_cmd_postfix": "",
     "delete_cmd_prefix": "del ",
     "library": "var_list.py",
     "varRefreshCmd": "print(var_dic_list())"
    },
    "r": {
     "delete_cmd_postfix": ") ",
     "delete_cmd_prefix": "rm(",
     "library": "var_list.r",
     "varRefreshCmd": "cat(var_dic_list()) "
    }
   },
   "types_to_exclude": [
    "module",
    "function",
    "builtin_function_or_method",
    "instance",
    "_Feature"
   ],
   "window_display": false
  }
 },
 "nbformat": 4,
 "nbformat_minor": 5
}
